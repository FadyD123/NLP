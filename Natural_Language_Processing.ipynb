{
  "nbformat": 4,
  "nbformat_minor": 0,
  "metadata": {
    "colab": {
      "name": "Natural Language Processing.ipynb",
      "provenance": [],
      "collapsed_sections": [],
      "authorship_tag": "ABX9TyNdAt2xKzW9omQg15CxASo4",
      "include_colab_link": true
    },
    "kernelspec": {
      "name": "python3",
      "display_name": "Python 3"
    },
    "language_info": {
      "name": "python"
    }
  },
  "cells": [
    {
      "cell_type": "markdown",
      "metadata": {
        "id": "view-in-github",
        "colab_type": "text"
      },
      "source": [
        "<a href=\"https://colab.research.google.com/github/FadyD123/NLP/blob/main/Natural_Language_Processing.ipynb\" target=\"_parent\"><img src=\"https://colab.research.google.com/assets/colab-badge.svg\" alt=\"Open In Colab\"/></a>"
      ]
    },
    {
      "cell_type": "markdown",
      "metadata": {
        "id": "NzGrdPXqUDHI"
      },
      "source": [
        "#nltk is the library used for NLP \n",
        "\n",
        "\n",
        "\n",
        "\n",
        "\n",
        "\n",
        "\n",
        "\n"
      ]
    },
    {
      "cell_type": "code",
      "metadata": {
        "id": "MTMakWD4ps0H"
      },
      "source": [
        "import nltk\n",
        "# nltk library is the library used for NLP "
      ],
      "execution_count": 10,
      "outputs": []
    },
    {
      "cell_type": "markdown",
      "metadata": {
        "id": "qsknNqlbVCJn"
      },
      "source": [
        "\n",
        "\n",
        "1.   **sent_tokenize** is used to split the text into sentences\n",
        "\n",
        "2.   **word_tokenize** is used to split the text into words\n",
        "\n"
      ]
    },
    {
      "cell_type": "code",
      "metadata": {
        "colab": {
          "base_uri": "https://localhost:8080/"
        },
        "id": "RlHJ53SDtxvs",
        "outputId": "8d586f3a-d5ed-4e59-c421-c58a47166697"
      },
      "source": [
        "from nltk import sent_tokenize, word_tokenize\n",
        "\n",
        "sample_text = \"Hello there, how are you? The weather is so nice today.\"\n",
        "\n",
        "tokenized_sentences = sent_tokenize(sample_text)\n",
        "print(tokenized_sentences)\n",
        "\n",
        "tokenized_words = word_tokenize(sample_text)\n",
        "print(tokenized_words)"
      ],
      "execution_count": 20,
      "outputs": [
        {
          "output_type": "stream",
          "text": [
            "['Hello there, how are you?', 'The weather is so nice today.']\n",
            "['Hello', 'there', ',', 'how', 'are', 'you', '?', 'The', 'weather', 'is', 'so', 'nice', 'today', '.']\n"
          ],
          "name": "stdout"
        }
      ]
    },
    {
      "cell_type": "markdown",
      "metadata": {
        "id": "8ioaCvbCVth-"
      },
      "source": [
        "**here , we have another way to split a text into words**"
      ]
    },
    {
      "cell_type": "code",
      "metadata": {
        "colab": {
          "base_uri": "https://localhost:8080/"
        },
        "id": "WKXOZnpISygP",
        "outputId": "d14c9f2a-cb8a-4ec8-d8f2-3e556aabd4e3"
      },
      "source": [
        "sample_text = \"Hello there Mr. Brown, how are you? The weather is so nice today. I like machine learning.\"\n",
        "\n",
        "tokenized_sentences = sent_tokenize(sample_text)\n",
        "\n",
        "for sentence in tokenized_sentences:\n",
        "  print(sentence)"
      ],
      "execution_count": 25,
      "outputs": [
        {
          "output_type": "stream",
          "text": [
            "Hello there Mr. Brown, how are you?\n",
            "The weather is so nice today.\n",
            "I like machine learning.\n"
          ],
          "name": "stdout"
        }
      ]
    },
    {
      "cell_type": "markdown",
      "metadata": {
        "id": "Dpdu8-hiXX9l"
      },
      "source": [
        "# Normalization is the process that converts a list of words to a more uniform sequence. This is useful for preparing text for processing in the future."
      ]
    },
    {
      "cell_type": "markdown",
      "metadata": {
        "id": "xOjjwfynaq2D"
      },
      "source": [
        "**The first method is called PorterStemmer**"
      ]
    },
    {
      "cell_type": "code",
      "metadata": {
        "colab": {
          "base_uri": "https://localhost:8080/"
        },
        "id": "J1DyPhhVXWR3",
        "outputId": "4ce9cf56-ccd0-4765-d912-24390fef69a2"
      },
      "source": [
        "from nltk.stem import PorterStemmer\n",
        "from nltk import word_tokenize\n",
        "\n",
        "ps = PorterStemmer()\n",
        "print(ps.stem(\"illegal\"))"
      ],
      "execution_count": 26,
      "outputs": [
        {
          "output_type": "stream",
          "text": [
            "illeg\n"
          ],
          "name": "stdout"
        }
      ]
    },
    {
      "cell_type": "code",
      "metadata": {
        "colab": {
          "base_uri": "https://localhost:8080/"
        },
        "id": "rNwmc6IVXqHk",
        "outputId": "db0693f5-2ccd-4677-b847-2a082dfc7455"
      },
      "source": [
        "from nltk.stem import PorterStemmer\n",
        "from nltk import word_tokenize\n",
        "\n",
        "ps = PorterStemmer()\n",
        "sample_words = [\"legal\", \"illegal\", \"legally\", \"leganize\"]\n",
        "for word in sample_words:\n",
        "  print(ps.stem(word))"
      ],
      "execution_count": 29,
      "outputs": [
        {
          "output_type": "stream",
          "text": [
            "legal\n",
            "illeg\n",
            "legal\n",
            "legan\n"
          ],
          "name": "stdout"
        }
      ]
    },
    {
      "cell_type": "markdown",
      "metadata": {
        "id": "3XwODCzUaMed"
      },
      "source": [
        "**The second method called WordNetLemmatizer is more efficient**\n",
        "\n"
      ]
    },
    {
      "cell_type": "code",
      "metadata": {
        "colab": {
          "base_uri": "https://localhost:8080/"
        },
        "id": "uEAlvmrNZ2fe",
        "outputId": "b5e06874-6f37-486f-dffa-2796172cff5d"
      },
      "source": [
        "from nltk.stem import WordNetLemmatizer\n",
        "\n",
        "lemmatizer = WordNetLemmatizer()\n",
        "\n",
        "print(lemmatizer.lemmatize(\"puppies\"))\n",
        "\n",
        "print(lemmatizer.lemmatize(\"monkeys\"))\n",
        "\n",
        "print(lemmatizer.lemmatize(\"dices\"))\n",
        "\n",
        "print(lemmatizer.lemmatize(\"phones\"))\n",
        "\n",
        "print(lemmatizer.lemmatize(\"better\"))\n",
        "# You need to precise the type of the word \"better\"\n",
        "print(lemmatizer.lemmatize(\"better\", pos = 'a'))"
      ],
      "execution_count": 43,
      "outputs": [
        {
          "output_type": "stream",
          "text": [
            "puppy\n",
            "monkey\n",
            "dice\n",
            "phone\n",
            "better\n",
            "good\n"
          ],
          "name": "stdout"
        }
      ]
    }
  ]
}