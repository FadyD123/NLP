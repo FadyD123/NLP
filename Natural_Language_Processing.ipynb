{
  "nbformat": 4,
  "nbformat_minor": 0,
  "metadata": {
    "colab": {
      "name": "Natural Language Processing.ipynb",
      "provenance": [],
      "collapsed_sections": [],
      "authorship_tag": "ABX9TyOdUB7+Yjp1XAWpaPYn5i0T",
      "include_colab_link": true
    },
    "kernelspec": {
      "name": "python3",
      "display_name": "Python 3"
    },
    "language_info": {
      "name": "python"
    }
  },
  "cells": [
    {
      "cell_type": "markdown",
      "metadata": {
        "id": "view-in-github",
        "colab_type": "text"
      },
      "source": [
        "<a href=\"https://colab.research.google.com/github/FadyD123/NLP/blob/main/Natural_Language_Processing.ipynb\" target=\"_parent\"><img src=\"https://colab.research.google.com/assets/colab-badge.svg\" alt=\"Open In Colab\"/></a>"
      ]
    },
    {
      "cell_type": "code",
      "metadata": {
        "id": "MTMakWD4ps0H"
      },
      "source": [
        "import nltk\n",
        "# nltk library is the library used for NLP "
      ],
      "execution_count": 6,
      "outputs": []
    },
    {
      "cell_type": "code",
      "metadata": {
        "colab": {
          "base_uri": "https://localhost:8080/",
          "height": 130
        },
        "id": "RlHJ53SDtxvs",
        "outputId": "3f811a21-ccb9-40db-ab1e-148358970a5c"
      },
      "source": [
        "for nltk.tokenize import sent_tokenize, word_tokenize\n",
        "\n",
        "sample_text = \"Hello there, how are you? The weather is so nice today.\"\n",
        "\n",
        "tokenized_sentences = sent_tokenize(sample_text)\n",
        "print(tokenized_sentences)\n",
        "\n",
        "tokenized_words = word_tokenize(sample_text)\n",
        "print(tokenized_words)"
      ],
      "execution_count": 12,
      "outputs": [
        {
          "output_type": "error",
          "ename": "SyntaxError",
          "evalue": "ignored",
          "traceback": [
            "\u001b[0;36m  File \u001b[0;32m\"<ipython-input-12-7768762d7f14>\"\u001b[0;36m, line \u001b[0;32m1\u001b[0m\n\u001b[0;31m    for nltk.tokenize import sent_tokenize, word_tokenize\u001b[0m\n\u001b[0m                           ^\u001b[0m\n\u001b[0;31mSyntaxError\u001b[0m\u001b[0;31m:\u001b[0m invalid syntax\n"
          ]
        }
      ]
    }
  ]
}