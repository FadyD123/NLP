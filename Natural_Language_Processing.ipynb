{
  "nbformat": 4,
  "nbformat_minor": 0,
  "metadata": {
    "colab": {
      "name": "Natural Language Processing.ipynb",
      "provenance": [],
      "collapsed_sections": [],
      "authorship_tag": "ABX9TyOliYLfEmi29XbAHvnA6UWK",
      "include_colab_link": true
    },
    "kernelspec": {
      "name": "python3",
      "display_name": "Python 3"
    },
    "language_info": {
      "name": "python"
    }
  },
  "cells": [
    {
      "cell_type": "markdown",
      "metadata": {
        "id": "view-in-github",
        "colab_type": "text"
      },
      "source": [
        "<a href=\"https://colab.research.google.com/github/FadyD123/NLP/blob/main/Natural_Language_Processing.ipynb\" target=\"_parent\"><img src=\"https://colab.research.google.com/assets/colab-badge.svg\" alt=\"Open In Colab\"/></a>"
      ]
    },
    {
      "cell_type": "markdown",
      "metadata": {
        "id": "NzGrdPXqUDHI"
      },
      "source": [
        "#nltk is the library used for NLP \n",
        "\n",
        "\n",
        "\n",
        "\n",
        "\n",
        "\n",
        "\n",
        "\n"
      ]
    },
    {
      "cell_type": "code",
      "metadata": {
        "id": "MTMakWD4ps0H"
      },
      "source": [
        "import nltk\n",
        "# nltk library is the library used for NLP "
      ],
      "execution_count": 10,
      "outputs": []
    },
    {
      "cell_type": "markdown",
      "metadata": {
        "id": "qsknNqlbVCJn"
      },
      "source": [
        "\n",
        "\n",
        "1.   **sent_tokenize** is used to split the text into sentences\n",
        "\n",
        "2.   **word_tokenize** is used to split the text into words\n",
        "\n"
      ]
    },
    {
      "cell_type": "code",
      "metadata": {
        "colab": {
          "base_uri": "https://localhost:8080/"
        },
        "id": "RlHJ53SDtxvs",
        "outputId": "8d586f3a-d5ed-4e59-c421-c58a47166697"
      },
      "source": [
        "from nltk import sent_tokenize, word_tokenize\n",
        "\n",
        "sample_text = \"Hello there, how are you? The weather is so nice today.\"\n",
        "\n",
        "tokenized_sentences = sent_tokenize(sample_text)\n",
        "print(tokenized_sentences)\n",
        "\n",
        "tokenized_words = word_tokenize(sample_text)\n",
        "print(tokenized_words)"
      ],
      "execution_count": 20,
      "outputs": [
        {
          "output_type": "stream",
          "text": [
            "['Hello there, how are you?', 'The weather is so nice today.']\n",
            "['Hello', 'there', ',', 'how', 'are', 'you', '?', 'The', 'weather', 'is', 'so', 'nice', 'today', '.']\n"
          ],
          "name": "stdout"
        }
      ]
    },
    {
      "cell_type": "markdown",
      "metadata": {
        "id": "8ioaCvbCVth-"
      },
      "source": [
        "**here , we have another way to split a text into words**"
      ]
    },
    {
      "cell_type": "code",
      "metadata": {
        "colab": {
          "base_uri": "https://localhost:8080/"
        },
        "id": "WKXOZnpISygP",
        "outputId": "67795b23-6cab-4616-a7cf-1db8a0e20b9d"
      },
      "source": [
        "sample_text = \"Hello there Mr. Brown, how are you? The weather is so nice today.\"\n",
        "\n",
        "tokenized_sentences = sent_tokenize(sample_text)\n",
        "\n",
        "for sentence in tokenized_sentences:\n",
        "  print(sentence)"
      ],
      "execution_count": 24,
      "outputs": [
        {
          "output_type": "stream",
          "text": [
            "Hello there Mr. Brown, how are you?\n",
            "The weather is so nice today.\n"
          ],
          "name": "stdout"
        }
      ]
    }
  ]
}