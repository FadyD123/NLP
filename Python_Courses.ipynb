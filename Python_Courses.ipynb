{
  "nbformat": 4,
  "nbformat_minor": 0,
  "metadata": {
    "colab": {
      "name": "Python Courses.ipynb",
      "provenance": [],
      "authorship_tag": "ABX9TyP/NYtE8q7PHicYMCT4bWJo",
      "include_colab_link": true
    },
    "kernelspec": {
      "name": "python3",
      "display_name": "Python 3"
    },
    "language_info": {
      "name": "python"
    }
  },
  "cells": [
    {
      "cell_type": "markdown",
      "metadata": {
        "id": "view-in-github",
        "colab_type": "text"
      },
      "source": [
        "<a href=\"https://colab.research.google.com/github/FadyD123/NLP/blob/main/Python_Courses.ipynb\" target=\"_parent\"><img src=\"https://colab.research.google.com/assets/colab-badge.svg\" alt=\"Open In Colab\"/></a>"
      ]
    },
    {
      "cell_type": "markdown",
      "metadata": {
        "id": "rVqnaIJnPAIV"
      },
      "source": [
        "# For loop\n"
      ]
    },
    {
      "cell_type": "markdown",
      "metadata": {
        "id": "wSJ0aI56Uozr"
      },
      "source": [
        " *Sum from 1 to n*"
      ]
    },
    {
      "cell_type": "code",
      "metadata": {
        "colab": {
          "base_uri": "https://localhost:8080/"
        },
        "id": "llrk7FuTO15Y",
        "outputId": "64b60d88-a3cf-4082-f750-0d3f7e94759f"
      },
      "source": [
        "# For loop\n",
        "sum = 0\n",
        "n = input(\"Donner n : \") # n is a string\n",
        "n = int(n) # n will become an integer\n",
        "for i in range(1,n+1):\n",
        " sum = sum + i\n",
        "print(sum)"
      ],
      "execution_count": 4,
      "outputs": [
        {
          "output_type": "stream",
          "text": [
            "Donner n : 100000\n",
            "5000050000\n"
          ],
          "name": "stdout"
        }
      ]
    },
    {
      "cell_type": "markdown",
      "metadata": {
        "id": "fg-U5tVqU_v3"
      },
      "source": [
        ""
      ]
    },
    {
      "cell_type": "code",
      "metadata": {
        "id": "86dD04BLUU4v"
      },
      "source": [
        ""
      ],
      "execution_count": null,
      "outputs": []
    },
    {
      "cell_type": "markdown",
      "metadata": {
        "id": "O9snkeXyL40z"
      },
      "source": [
        "#Programmer une calculatrice\n",
        "1.   Addition\n",
        "2.   Soustraction\n",
        "3.   Multiplication\n",
        "4.   Division\n",
        "5.   Power\n",
        "\n"
      ]
    },
    {
      "cell_type": "code",
      "metadata": {
        "id": "yR9No2KwKfoU"
      },
      "source": [
        ""
      ],
      "execution_count": null,
      "outputs": []
    }
  ]
}