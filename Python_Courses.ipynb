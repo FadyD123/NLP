{
  "nbformat": 4,
  "nbformat_minor": 0,
  "metadata": {
    "colab": {
      "name": "Python Courses.ipynb",
      "provenance": [],
      "collapsed_sections": [],
      "authorship_tag": "ABX9TyM2r+gGvfkzxzV7vd/aSqqm",
      "include_colab_link": true
    },
    "kernelspec": {
      "name": "python3",
      "display_name": "Python 3"
    },
    "language_info": {
      "name": "python"
    }
  },
  "cells": [
    {
      "cell_type": "markdown",
      "metadata": {
        "id": "view-in-github",
        "colab_type": "text"
      },
      "source": [
        "<a href=\"https://colab.research.google.com/github/FadyD123/NLP/blob/main/Python_Courses.ipynb\" target=\"_parent\"><img src=\"https://colab.research.google.com/assets/colab-badge.svg\" alt=\"Open In Colab\"/></a>"
      ]
    },
    {
      "cell_type": "markdown",
      "metadata": {
        "id": "rVqnaIJnPAIV"
      },
      "source": [
        "# For loop : we know when it finish\n",
        "\n",
        "\n"
      ]
    },
    {
      "cell_type": "markdown",
      "metadata": {
        "id": "wSJ0aI56Uozr"
      },
      "source": [
        " *Sum from 1 to n*"
      ]
    },
    {
      "cell_type": "code",
      "metadata": {
        "colab": {
          "base_uri": "https://localhost:8080/"
        },
        "id": "llrk7FuTO15Y",
        "outputId": "64b60d88-a3cf-4082-f750-0d3f7e94759f"
      },
      "source": [
        "# For loop\n",
        "sum = 0\n",
        "n = input(\"Donner n : \") # n is a string\n",
        "n = int(n) # n will become an integer\n",
        "for i in range(1,n+1):\n",
        " sum = sum + i\n",
        "print(sum)"
      ],
      "execution_count": 4,
      "outputs": [
        {
          "output_type": "stream",
          "text": [
            "Donner n : 100000\n",
            "5000050000\n"
          ],
          "name": "stdout"
        }
      ]
    },
    {
      "cell_type": "markdown",
      "metadata": {
        "id": "fg-U5tVqU_v3"
      },
      "source": [
        "*Factoriel n*"
      ]
    },
    {
      "cell_type": "code",
      "metadata": {
        "colab": {
          "base_uri": "https://localhost:8080/"
        },
        "id": "86dD04BLUU4v",
        "outputId": "cb2b8c04-3f99-4a1c-d17b-e9caf981de52"
      },
      "source": [
        "factn = 1\n",
        "n = input(\"Donner n : \") # n is a string\n",
        "n = int(n) # n will become an integer\n",
        "for i in range(1,n+1):\n",
        " factn = factn * i\n",
        "print(\"n! = \", factn)"
      ],
      "execution_count": 8,
      "outputs": [
        {
          "output_type": "stream",
          "text": [
            "Donner n : 10\n",
            "n! =  3628800\n"
          ],
          "name": "stdout"
        }
      ]
    },
    {
      "cell_type": "markdown",
      "metadata": {
        "id": "5K73bK_pV-Ck"
      },
      "source": [
        "# While loop : There is a condition , if it will become false the loop will finish\n"
      ]
    },
    {
      "cell_type": "code",
      "metadata": {
        "id": "Ay1HRsBVWCk0"
      },
      "source": [
        "i = 0\n",
        "while i<=10:\n",
        "  #print(i)\n",
        "  i = i + 1\n",
        "  "
      ],
      "execution_count": 12,
      "outputs": []
    },
    {
      "cell_type": "markdown",
      "metadata": {
        "id": "MNtRPvzNXcI2"
      },
      "source": [
        "*Le PGCD or GCD : le plus grand commun diviseurs de 2 nombres a et b* \n",
        "\n",
        "\n",
        "*   12 : 1 2 3 4 6 12\n",
        "*   18: 1 2 3 6 9 18\n",
        "*   PGCD(12,18) = 6\n",
        "\n",
        "*   a = 12 and b = 18\n",
        "*   b = 18 - 12 = 6\n",
        "*   a = 12  and b = 6\n",
        "*   a = 12 - 6 = 6\n",
        "*   a = 6 and b = 6\n"
      ]
    },
    {
      "cell_type": "code",
      "metadata": {
        "colab": {
          "base_uri": "https://localhost:8080/"
        },
        "id": "bOz55VZQX68F",
        "outputId": "9900c09a-cc6b-425c-b5ae-3b7d81d7f5f3"
      },
      "source": [
        "a = input(\"Give me a : \")\n",
        "a = int(a)\n",
        "b = input(\"Give me b : \")\n",
        "b = int(b)\n",
        "\n",
        "save_a = a\n",
        "save_b = b\n",
        "\n",
        "while a!=b:\n",
        " if a < b:\n",
        "   b = b - a\n",
        " elif a > b:\n",
        "   a = a - b\n",
        "if a != 1:\n",
        "  print(\"The GCD of \"+ str(save_a)+ \" and \"+ str(save_b) + \" : \"+str(a))\n",
        "else:\n",
        "  print(\"a et b sont premiers entre eux\")\n"
      ],
      "execution_count": 28,
      "outputs": [
        {
          "output_type": "stream",
          "text": [
            "Give me a : 19\n",
            "Give me b : 23\n",
            "a et b sont premiers entre eux\n"
          ],
          "name": "stdout"
        }
      ]
    },
    {
      "cell_type": "markdown",
      "metadata": {
        "id": "j1r_sfyZb2fL"
      },
      "source": [
        "# exp function is the inverse function log népérien.\n",
        "exp(x) = sum from 0 to infinity x power n / factoriel n "
      ]
    },
    {
      "cell_type": "code",
      "metadata": {
        "colab": {
          "base_uri": "https://localhost:8080/",
          "height": 316
        },
        "id": "QIuXG3iedJs0",
        "outputId": "5e15b679-1059-4111-b1ff-61aec09d0092"
      },
      "source": [
        "import matplotlib.pyplot as plt\n",
        "import numpy as np\n",
        "import math\n",
        "\n",
        "def factoriall(n):\n",
        "  # usage of for loop\n",
        "  if n == 0:\n",
        "    return 1\n",
        "  else: # n is different than 0\n",
        "    factorn = 1\n",
        "    for i in range(1,n+1):\n",
        "      factorn *= i\n",
        "    return factorn\n",
        "\n",
        "\n",
        "def expl(x):\n",
        "  # usage of for loop\n",
        "  N = 25\n",
        "  expx = 0\n",
        "  tab = np.zeros(N+1)\n",
        "  for n in range(0,N+1):\n",
        "    expx +=  float(x**n)/float(factoriall(n))\n",
        "    tab[n]= expx\n",
        "    #print(expx)\n",
        "    #print(tab)\n",
        "  plt.plot(tab)\n",
        "  return expx\n",
        "\n",
        "x = input(\"Donner un réel : \")\n",
        "x = float(x)\n",
        "\n",
        "\n",
        "print(\"Taylor exp def of x = \", expl(x))\n",
        "print(\"real exp of x = \", math.exp(x))\n"
      ],
      "execution_count": 77,
      "outputs": [
        {
          "output_type": "stream",
          "text": [
            "Donner un réel : 7\n",
            "Taylor exp def of x =  1096.6331271341257\n",
            "real exp of x =  1096.6331584284585\n"
          ],
          "name": "stdout"
        },
        {
          "output_type": "display_data",
          "data": {
            "image/png": "[encoded data removed]",
            "text/plain": [
              "<Figure size 432x288 with 1 Axes>"
            ]
          },
          "metadata": {
            "tags": [],
            "needs_background": "light"
          }
        }
      ]
    },
    {
      "cell_type": "markdown",
      "metadata": {
        "id": "O9snkeXyL40z"
      },
      "source": [
        "#Programmer une calculatrice\n",
        "1.   Addition\n",
        "2.   Soustraction\n",
        "3.   Multiplication\n",
        "4.   Division\n",
        "5.   Power\n",
        "\n"
      ]
    },
    {
      "cell_type": "code",
      "metadata": {
        "id": "yR9No2KwKfoU"
      },
      "source": [
        ""
      ],
      "execution_count": null,
      "outputs": []
    }
  ]
}